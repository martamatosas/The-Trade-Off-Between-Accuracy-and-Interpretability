{
 "cells": [
  {
   "cell_type": "markdown",
   "metadata": {},
   "source": [
    "### Choose the models to ensemble"
   ]
  },
  {
   "cell_type": "code",
   "execution_count": 1,
   "metadata": {},
   "outputs": [],
   "source": [
    "import numpy as np\n",
    "from numpy import genfromtxt\n",
    "import matplotlib.pyplot as plt"
   ]
  },
  {
   "cell_type": "code",
   "execution_count": 2,
   "metadata": {},
   "outputs": [],
   "source": [
    "# Read the wrong predictions that are an output of previous work.\n",
    "DT_x_wrong = genfromtxt('DT_x_wrong.csv', delimiter=',')\n",
    "KNN_x_wrong = genfromtxt('KNN_x_wrong.csv', delimiter=',')\n",
    "LR_x_wrong = genfromtxt('LR_x_wrong.csv', delimiter=',')\n",
    "RF_x_wrong = genfromtxt('RF_x_wrong.csv', delimiter=',')\n",
    "SVC_x_wrong = genfromtxt('SVC_x_wrong.csv', delimiter=',')\n",
    "XGB_x_wrong = genfromtxt('XGB_x_wrong.csv', delimiter=',')"
   ]
  },
  {
   "cell_type": "code",
   "execution_count": 3,
   "metadata": {},
   "outputs": [
    {
     "name": "stdout",
     "output_type": "stream",
     "text": [
      "inter_LR_DT {8.0, 50.0, 135.0}\n",
      "inter_LR_KNN {8.0, 50.0, 135.0}\n",
      "inter_LR_RF {8.0}\n",
      "inter_LR_SVC {8.0, 50.0, 135.0}\n",
      "inter_LR_XGB {8.0, 50.0}\n"
     ]
    }
   ],
   "source": [
    "# Find the intersections to identify the common samples wrongly classified with respect to Logistic Regression (LR).\n",
    "# LR is chosen as a benchmak because it is the best perfrming model.\n",
    "\n",
    "inter_LR_DT = set(LR_x_wrong).intersection(set(DT_x_wrong))\n",
    "print('inter_LR_DT', inter_LR_DT)\n",
    "\n",
    "inter_LR_KNN = set(LR_x_wrong).intersection(set(KNN_x_wrong))\n",
    "print('inter_LR_KNN', inter_LR_KNN)\n",
    "\n",
    "inter_LR_RF = set(LR_x_wrong).intersection(set(RF_x_wrong))\n",
    "print('inter_LR_RF', inter_LR_RF)\n",
    "\n",
    "inter_LR_SVC = set(LR_x_wrong).intersection(set(SVC_x_wrong))\n",
    "print('inter_LR_SVC', inter_LR_SVC)\n",
    "\n",
    "inter_LR_XGB = set(LR_x_wrong).intersection(set(XGB_x_wrong))\n",
    "print('inter_LR_XGB', inter_LR_XGB)\n"
   ]
  },
  {
   "cell_type": "markdown",
   "metadata": {},
   "source": [
    "#### The models that have learned differently are the models that have the smaller intersection: Logistic Regression and Random Forest."
   ]
  }
 ],
 "metadata": {
  "kernelspec": {
   "display_name": "Python 3",
   "language": "python",
   "name": "python3"
  },
  "language_info": {
   "codemirror_mode": {
    "name": "ipython",
    "version": 3
   },
   "file_extension": ".py",
   "mimetype": "text/x-python",
   "name": "python",
   "nbconvert_exporter": "python",
   "pygments_lexer": "ipython3",
   "version": "3.7.6"
  }
 },
 "nbformat": 4,
 "nbformat_minor": 4
}
