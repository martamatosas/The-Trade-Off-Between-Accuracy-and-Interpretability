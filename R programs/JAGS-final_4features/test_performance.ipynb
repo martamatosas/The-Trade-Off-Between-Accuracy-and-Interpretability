{
 "cells": [
  {
   "cell_type": "code",
   "execution_count": 1,
   "metadata": {},
   "outputs": [
    {
     "data": {
      "text/html": [
       "<div>\n",
       "<style scoped>\n",
       "    .dataframe tbody tr th:only-of-type {\n",
       "        vertical-align: middle;\n",
       "    }\n",
       "\n",
       "    .dataframe tbody tr th {\n",
       "        vertical-align: top;\n",
       "    }\n",
       "\n",
       "    .dataframe thead th {\n",
       "        text-align: right;\n",
       "    }\n",
       "</style>\n",
       "<table border=\"1\" class=\"dataframe\">\n",
       "  <thead>\n",
       "    <tr style=\"text-align: right;\">\n",
       "      <th></th>\n",
       "      <th>texture_mean</th>\n",
       "      <th>area_worst</th>\n",
       "      <th>smoothness_worst</th>\n",
       "      <th>concavity_mean</th>\n",
       "      <th>diagnosis</th>\n",
       "    </tr>\n",
       "  </thead>\n",
       "  <tbody>\n",
       "    <tr>\n",
       "      <th>400</th>\n",
       "      <td>21.02</td>\n",
       "      <td>1304.0</td>\n",
       "      <td>0.1873</td>\n",
       "      <td>0.31890</td>\n",
       "      <td>1</td>\n",
       "    </tr>\n",
       "    <tr>\n",
       "      <th>225</th>\n",
       "      <td>13.47</td>\n",
       "      <td>873.2</td>\n",
       "      <td>0.1297</td>\n",
       "      <td>0.05724</td>\n",
       "      <td>0</td>\n",
       "    </tr>\n",
       "    <tr>\n",
       "      <th>321</th>\n",
       "      <td>19.66</td>\n",
       "      <td>1657.0</td>\n",
       "      <td>0.1054</td>\n",
       "      <td>0.11550</td>\n",
       "      <td>1</td>\n",
       "    </tr>\n",
       "    <tr>\n",
       "      <th>173</th>\n",
       "      <td>14.71</td>\n",
       "      <td>396.5</td>\n",
       "      <td>0.1216</td>\n",
       "      <td>0.02363</td>\n",
       "      <td>0</td>\n",
       "    </tr>\n",
       "    <tr>\n",
       "      <th>506</th>\n",
       "      <td>20.04</td>\n",
       "      <td>515.3</td>\n",
       "      <td>0.1402</td>\n",
       "      <td>0.08175</td>\n",
       "      <td>0</td>\n",
       "    </tr>\n",
       "    <tr>\n",
       "      <th>...</th>\n",
       "      <td>...</td>\n",
       "      <td>...</td>\n",
       "      <td>...</td>\n",
       "      <td>...</td>\n",
       "      <td>...</td>\n",
       "    </tr>\n",
       "    <tr>\n",
       "      <th>100</th>\n",
       "      <td>24.98</td>\n",
       "      <td>906.5</td>\n",
       "      <td>0.1265</td>\n",
       "      <td>0.08625</td>\n",
       "      <td>1</td>\n",
       "    </tr>\n",
       "    <tr>\n",
       "      <th>7</th>\n",
       "      <td>20.83</td>\n",
       "      <td>897.0</td>\n",
       "      <td>0.1654</td>\n",
       "      <td>0.09366</td>\n",
       "      <td>1</td>\n",
       "    </tr>\n",
       "    <tr>\n",
       "      <th>361</th>\n",
       "      <td>21.57</td>\n",
       "      <td>621.2</td>\n",
       "      <td>0.1140</td>\n",
       "      <td>0.03344</td>\n",
       "      <td>0</td>\n",
       "    </tr>\n",
       "    <tr>\n",
       "      <th>343</th>\n",
       "      <td>21.68</td>\n",
       "      <td>1540.0</td>\n",
       "      <td>0.1218</td>\n",
       "      <td>0.18630</td>\n",
       "      <td>1</td>\n",
       "    </tr>\n",
       "    <tr>\n",
       "      <th>466</th>\n",
       "      <td>20.74</td>\n",
       "      <td>689.1</td>\n",
       "      <td>0.1351</td>\n",
       "      <td>0.10850</td>\n",
       "      <td>0</td>\n",
       "    </tr>\n",
       "  </tbody>\n",
       "</table>\n",
       "<p>171 rows × 5 columns</p>\n",
       "</div>"
      ],
      "text/plain": [
       "     texture_mean  area_worst  smoothness_worst  concavity_mean  diagnosis\n",
       "400         21.02      1304.0            0.1873         0.31890          1\n",
       "225         13.47       873.2            0.1297         0.05724          0\n",
       "321         19.66      1657.0            0.1054         0.11550          1\n",
       "173         14.71       396.5            0.1216         0.02363          0\n",
       "506         20.04       515.3            0.1402         0.08175          0\n",
       "..            ...         ...               ...             ...        ...\n",
       "100         24.98       906.5            0.1265         0.08625          1\n",
       "7           20.83       897.0            0.1654         0.09366          1\n",
       "361         21.57       621.2            0.1140         0.03344          0\n",
       "343         21.68      1540.0            0.1218         0.18630          1\n",
       "466         20.74       689.1            0.1351         0.10850          0\n",
       "\n",
       "[171 rows x 5 columns]"
      ]
     },
     "execution_count": 1,
     "metadata": {},
     "output_type": "execute_result"
    }
   ],
   "source": [
    "import pandas as pd\n",
    "from sklearn.model_selection import train_test_split\n",
    "import matplotlib.pyplot as plt\n",
    "import seaborn as sn\n",
    "\n",
    "#df_train = pd.read_csv(\"./df_train_4features.csv\",index_col=0)\n",
    "df_test = pd.read_csv(\"./df_test_4features.csv\",index_col=0)\n",
    "df_test"
   ]
  },
  {
   "cell_type": "code",
   "execution_count": 2,
   "metadata": {},
   "outputs": [],
   "source": [
    "target = 'diagnosis'"
   ]
  },
  {
   "cell_type": "code",
   "execution_count": 3,
   "metadata": {},
   "outputs": [
    {
     "data": {
      "text/plain": [
       "171"
      ]
     },
     "execution_count": 3,
     "metadata": {},
     "output_type": "execute_result"
    }
   ],
   "source": [
    "len(df_test)"
   ]
  },
  {
   "cell_type": "markdown",
   "metadata": {},
   "source": [
    "## Model\n",
    "\n",
    "The formula of logit function is:\n",
    "\n",
    "       logit(μ) = b0 + b1x1 + b2x2 + b3x3 + b4x4 + b5x5\n",
    "\n",
    "- The logit function is the inverse of the logistic function. For 0 < μ < 1, logit(μ) = log (μ/(1 − μ)) where log is the natural logarithm. \n",
    "- The predicted probability of y=1 (malignant tumor) is logistic(β0+β1x1+β2x2+β3x3+β4x4+β5x5) = μ\n",
    "- That probability is a log odds of log p(y=1)/p(y=0). The ratio, p(y=1)/p(y=0), is called the odds of outcome 1 to outcome 0.\n"
   ]
  },
  {
   "cell_type": "code",
   "execution_count": 4,
   "metadata": {},
   "outputs": [],
   "source": [
    "def make_prediction(log_odds):\n",
    "    prediction = []\n",
    "    for i in range(len(log_odds)):\n",
    "        # positive value of log odds indicates the probability of y=1 is more than 50%.\n",
    "        if float(log_odds[i:i+1]) > 0.0:\n",
    "            prediction.append(1) # malignant tumor\n",
    "        elif float(log_odds[i:i+1]) < 0.0:\n",
    "        # negative value of log odds indicates the probability of y=1 is less than 50%.\n",
    "            prediction.append(0) # non malignant tumor\n",
    "    return prediction\n",
    "    \n",
    "def cal_log_odds(df_test, model_features, betas):\n",
    "    b = betas\n",
    "    # calculate log odds\n",
    "    log_odds = b[0] + b[1]*df_test[model_features[0]] + b[2]*df_test[model_features[1]] + b[3]*df_test[model_features[2]] + b[4]*df_test[model_features[3]] \n",
    "    df_test[\"log_odds\"] = log_odds\n",
    "    \n",
    "    # make prediction based on log odds\n",
    "    prediction = make_prediction(log_odds)\n",
    "    df_test[\"prediction\"] = prediction\n",
    "    \n",
    "    return df_test"
   ]
  },
  {
   "cell_type": "code",
   "execution_count": 5,
   "metadata": {},
   "outputs": [],
   "source": [
    "betas = [-27.0219, 0.3215, 0.0108, 73.4500, 18.7389] # mean value of parameters\n",
    "model_features = [ \"texture_mean\",\"area_worst\",\"smoothness_worst\",\"concavity_mean\"]"
   ]
  },
  {
   "cell_type": "code",
   "execution_count": 6,
   "metadata": {
    "scrolled": false
   },
   "outputs": [
    {
     "data": {
      "text/html": [
       "<div>\n",
       "<style scoped>\n",
       "    .dataframe tbody tr th:only-of-type {\n",
       "        vertical-align: middle;\n",
       "    }\n",
       "\n",
       "    .dataframe tbody tr th {\n",
       "        vertical-align: top;\n",
       "    }\n",
       "\n",
       "    .dataframe thead th {\n",
       "        text-align: right;\n",
       "    }\n",
       "</style>\n",
       "<table border=\"1\" class=\"dataframe\">\n",
       "  <thead>\n",
       "    <tr style=\"text-align: right;\">\n",
       "      <th></th>\n",
       "      <th>texture_mean</th>\n",
       "      <th>area_worst</th>\n",
       "      <th>smoothness_worst</th>\n",
       "      <th>concavity_mean</th>\n",
       "      <th>diagnosis</th>\n",
       "      <th>log_odds</th>\n",
       "      <th>prediction</th>\n",
       "    </tr>\n",
       "  </thead>\n",
       "  <tbody>\n",
       "    <tr>\n",
       "      <th>400</th>\n",
       "      <td>21.02</td>\n",
       "      <td>1304.0</td>\n",
       "      <td>0.1873</td>\n",
       "      <td>0.31890</td>\n",
       "      <td>1</td>\n",
       "      <td>13.552250</td>\n",
       "      <td>1</td>\n",
       "    </tr>\n",
       "    <tr>\n",
       "      <th>225</th>\n",
       "      <td>13.47</td>\n",
       "      <td>873.2</td>\n",
       "      <td>0.1297</td>\n",
       "      <td>0.05724</td>\n",
       "      <td>0</td>\n",
       "      <td>-2.661655</td>\n",
       "      <td>0</td>\n",
       "    </tr>\n",
       "    <tr>\n",
       "      <th>321</th>\n",
       "      <td>19.66</td>\n",
       "      <td>1657.0</td>\n",
       "      <td>0.1054</td>\n",
       "      <td>0.11550</td>\n",
       "      <td>1</td>\n",
       "      <td>7.100363</td>\n",
       "      <td>1</td>\n",
       "    </tr>\n",
       "    <tr>\n",
       "      <th>173</th>\n",
       "      <td>14.71</td>\n",
       "      <td>396.5</td>\n",
       "      <td>0.1216</td>\n",
       "      <td>0.02363</td>\n",
       "      <td>0</td>\n",
       "      <td>-8.636115</td>\n",
       "      <td>0</td>\n",
       "    </tr>\n",
       "    <tr>\n",
       "      <th>506</th>\n",
       "      <td>20.04</td>\n",
       "      <td>515.3</td>\n",
       "      <td>0.1402</td>\n",
       "      <td>0.08175</td>\n",
       "      <td>0</td>\n",
       "      <td>-3.184205</td>\n",
       "      <td>0</td>\n",
       "    </tr>\n",
       "    <tr>\n",
       "      <th>...</th>\n",
       "      <td>...</td>\n",
       "      <td>...</td>\n",
       "      <td>...</td>\n",
       "      <td>...</td>\n",
       "      <td>...</td>\n",
       "      <td>...</td>\n",
       "      <td>...</td>\n",
       "    </tr>\n",
       "    <tr>\n",
       "      <th>100</th>\n",
       "      <td>24.98</td>\n",
       "      <td>906.5</td>\n",
       "      <td>0.1265</td>\n",
       "      <td>0.08625</td>\n",
       "      <td>1</td>\n",
       "      <td>1.707025</td>\n",
       "      <td>1</td>\n",
       "    </tr>\n",
       "    <tr>\n",
       "      <th>7</th>\n",
       "      <td>20.83</td>\n",
       "      <td>897.0</td>\n",
       "      <td>0.1654</td>\n",
       "      <td>0.09366</td>\n",
       "      <td>1</td>\n",
       "      <td>3.266260</td>\n",
       "      <td>1</td>\n",
       "    </tr>\n",
       "    <tr>\n",
       "      <th>361</th>\n",
       "      <td>21.57</td>\n",
       "      <td>621.2</td>\n",
       "      <td>0.1140</td>\n",
       "      <td>0.03344</td>\n",
       "      <td>0</td>\n",
       "      <td>-4.378256</td>\n",
       "      <td>0</td>\n",
       "    </tr>\n",
       "    <tr>\n",
       "      <th>343</th>\n",
       "      <td>21.68</td>\n",
       "      <td>1540.0</td>\n",
       "      <td>0.1218</td>\n",
       "      <td>0.18630</td>\n",
       "      <td>1</td>\n",
       "      <td>9.017487</td>\n",
       "      <td>1</td>\n",
       "    </tr>\n",
       "    <tr>\n",
       "      <th>466</th>\n",
       "      <td>20.74</td>\n",
       "      <td>689.1</td>\n",
       "      <td>0.1351</td>\n",
       "      <td>0.10850</td>\n",
       "      <td>0</td>\n",
       "      <td>-0.955444</td>\n",
       "      <td>0</td>\n",
       "    </tr>\n",
       "  </tbody>\n",
       "</table>\n",
       "<p>171 rows × 7 columns</p>\n",
       "</div>"
      ],
      "text/plain": [
       "     texture_mean  area_worst  smoothness_worst  concavity_mean  diagnosis  \\\n",
       "400         21.02      1304.0            0.1873         0.31890          1   \n",
       "225         13.47       873.2            0.1297         0.05724          0   \n",
       "321         19.66      1657.0            0.1054         0.11550          1   \n",
       "173         14.71       396.5            0.1216         0.02363          0   \n",
       "506         20.04       515.3            0.1402         0.08175          0   \n",
       "..            ...         ...               ...             ...        ...   \n",
       "100         24.98       906.5            0.1265         0.08625          1   \n",
       "7           20.83       897.0            0.1654         0.09366          1   \n",
       "361         21.57       621.2            0.1140         0.03344          0   \n",
       "343         21.68      1540.0            0.1218         0.18630          1   \n",
       "466         20.74       689.1            0.1351         0.10850          0   \n",
       "\n",
       "      log_odds  prediction  \n",
       "400  13.552250           1  \n",
       "225  -2.661655           0  \n",
       "321   7.100363           1  \n",
       "173  -8.636115           0  \n",
       "506  -3.184205           0  \n",
       "..         ...         ...  \n",
       "100   1.707025           1  \n",
       "7     3.266260           1  \n",
       "361  -4.378256           0  \n",
       "343   9.017487           1  \n",
       "466  -0.955444           0  \n",
       "\n",
       "[171 rows x 7 columns]"
      ]
     },
     "execution_count": 6,
     "metadata": {},
     "output_type": "execute_result"
    }
   ],
   "source": [
    "df_test_model = cal_log_odds(df_test,model_features, betas)\n",
    "df_test_model"
   ]
  },
  {
   "cell_type": "code",
   "execution_count": 7,
   "metadata": {},
   "outputs": [
    {
     "name": "stdout",
     "output_type": "stream",
     "text": [
      "    diagnosis  log_odds  prediction\n",
      "40          1   -2.9564           0\n",
      "     diagnosis  log_odds  prediction\n",
      "263          1  -1.36365           0\n",
      "     diagnosis  log_odds  prediction\n",
      "489          1 -0.725513           0\n"
     ]
    }
   ],
   "source": [
    "for i in range(len(df_test_model)):\n",
    "    if int(df_test_model[target][i:i+1]) != int(df_test_model[\"prediction\"][i:i+1]):\n",
    "        print(df_test_model[[\"diagnosis\", \"log_odds\", \"prediction\"]][i:i+1])"
   ]
  },
  {
   "cell_type": "code",
   "execution_count": 8,
   "metadata": {},
   "outputs": [
    {
     "name": "stdout",
     "output_type": "stream",
     "text": [
      "Number of true positives =  168\n",
      "Number of false negatives =  3\n",
      "Number of false positives =  0\n"
     ]
    }
   ],
   "source": [
    "# metrics \n",
    "corrects = 0\n",
    "false_negatives = []\n",
    "false_positives = []\n",
    "\n",
    "for i in range(len(df_test)):\n",
    "    actualClass = df_test[\"diagnosis\"][i:i+1]\n",
    "    predictedClass = df_test[\"prediction\"][i:i+1]\n",
    "    if int(actualClass) == int(predictedClass):\n",
    "        corrects +=1\n",
    "    elif int(actualClass)==0 and int(predictedClass)==1:\n",
    "        false_positives.append(df_test[i:i+1])\n",
    "    elif int(actualClass)==1 and int(predictedClass)==0:\n",
    "        false_negatives.append(df_test[i:i+1])\n",
    "            \n",
    "print(\"Number of true positives = \", corrects)\n",
    "print(\"Number of false negatives = \", len(false_negatives))\n",
    "print(\"Number of false positives = \", len(false_positives))\n",
    " "
   ]
  },
  {
   "cell_type": "code",
   "execution_count": 9,
   "metadata": {},
   "outputs": [
    {
     "name": "stdout",
     "output_type": "stream",
     "text": [
      "Accuracy =  0.9824561403508771\n"
     ]
    }
   ],
   "source": [
    "accuracy = corrects/len(df_test)\n",
    "print(\"Accuracy = \", accuracy)"
   ]
  },
  {
   "cell_type": "code",
   "execution_count": 10,
   "metadata": {},
   "outputs": [
    {
     "data": {
      "image/png": "[encoded data removed]",
      "text/plain": [
       "<Figure size 648x504 with 2 Axes>"
      ]
     },
     "metadata": {
      "needs_background": "light"
     },
     "output_type": "display_data"
    }
   ],
   "source": [
    "# confusion matrix\n",
    "y_actual = pd.Series(df_test_model[target], name='Actual')\n",
    "y_predicted = pd.Series(df_test_model[\"prediction\"], name='Prediction')\n",
    "confusion_matrix = pd.crosstab(y_actual, y_predicted)\n",
    "\n",
    "fig, ax = plt.subplots(figsize=(9,7))\n",
    "sn.heatmap(confusion_matrix, annot=True, cmap=\"YlGnBu\")\n",
    "plt.show()"
   ]
  },
  {
   "cell_type": "code",
   "execution_count": 11,
   "metadata": {},
   "outputs": [
    {
     "data": {
      "text/html": [
       "<div>\n",
       "<style scoped>\n",
       "    .dataframe tbody tr th:only-of-type {\n",
       "        vertical-align: middle;\n",
       "    }\n",
       "\n",
       "    .dataframe tbody tr th {\n",
       "        vertical-align: top;\n",
       "    }\n",
       "\n",
       "    .dataframe thead th {\n",
       "        text-align: right;\n",
       "    }\n",
       "</style>\n",
       "<table border=\"1\" class=\"dataframe\">\n",
       "  <thead>\n",
       "    <tr style=\"text-align: right;\">\n",
       "      <th></th>\n",
       "      <th>texture_mean</th>\n",
       "      <th>area_worst</th>\n",
       "      <th>smoothness_worst</th>\n",
       "      <th>concavity_mean</th>\n",
       "      <th>diagnosis</th>\n",
       "      <th>log_odds</th>\n",
       "      <th>prediction</th>\n",
       "    </tr>\n",
       "  </thead>\n",
       "  <tbody>\n",
       "    <tr>\n",
       "      <th>40</th>\n",
       "      <td>21.58</td>\n",
       "      <td>787.9</td>\n",
       "      <td>0.1094</td>\n",
       "      <td>0.0311</td>\n",
       "      <td>1</td>\n",
       "      <td>-2.9564</td>\n",
       "      <td>0</td>\n",
       "    </tr>\n",
       "  </tbody>\n",
       "</table>\n",
       "</div>"
      ],
      "text/plain": [
       "    texture_mean  area_worst  smoothness_worst  concavity_mean  diagnosis  \\\n",
       "40         21.58       787.9            0.1094          0.0311          1   \n",
       "\n",
       "    log_odds  prediction  \n",
       "40   -2.9564           0  "
      ]
     },
     "execution_count": 11,
     "metadata": {},
     "output_type": "execute_result"
    }
   ],
   "source": [
    "false_negatives[0]"
   ]
  },
  {
   "cell_type": "code",
   "execution_count": 12,
   "metadata": {},
   "outputs": [
    {
     "data": {
      "text/html": [
       "<div>\n",
       "<style scoped>\n",
       "    .dataframe tbody tr th:only-of-type {\n",
       "        vertical-align: middle;\n",
       "    }\n",
       "\n",
       "    .dataframe tbody tr th {\n",
       "        vertical-align: top;\n",
       "    }\n",
       "\n",
       "    .dataframe thead th {\n",
       "        text-align: right;\n",
       "    }\n",
       "</style>\n",
       "<table border=\"1\" class=\"dataframe\">\n",
       "  <thead>\n",
       "    <tr style=\"text-align: right;\">\n",
       "      <th></th>\n",
       "      <th>texture_mean</th>\n",
       "      <th>area_worst</th>\n",
       "      <th>smoothness_worst</th>\n",
       "      <th>concavity_mean</th>\n",
       "      <th>diagnosis</th>\n",
       "      <th>log_odds</th>\n",
       "      <th>prediction</th>\n",
       "    </tr>\n",
       "  </thead>\n",
       "  <tbody>\n",
       "    <tr>\n",
       "      <th>263</th>\n",
       "      <td>19.38</td>\n",
       "      <td>988.6</td>\n",
       "      <td>0.1084</td>\n",
       "      <td>0.04209</td>\n",
       "      <td>1</td>\n",
       "      <td>-1.36365</td>\n",
       "      <td>0</td>\n",
       "    </tr>\n",
       "  </tbody>\n",
       "</table>\n",
       "</div>"
      ],
      "text/plain": [
       "     texture_mean  area_worst  smoothness_worst  concavity_mean  diagnosis  \\\n",
       "263         19.38       988.6            0.1084         0.04209          1   \n",
       "\n",
       "     log_odds  prediction  \n",
       "263  -1.36365           0  "
      ]
     },
     "execution_count": 12,
     "metadata": {},
     "output_type": "execute_result"
    }
   ],
   "source": [
    "false_negatives[1]"
   ]
  },
  {
   "cell_type": "code",
   "execution_count": 13,
   "metadata": {},
   "outputs": [
    {
     "data": {
      "text/html": [
       "<div>\n",
       "<style scoped>\n",
       "    .dataframe tbody tr th:only-of-type {\n",
       "        vertical-align: middle;\n",
       "    }\n",
       "\n",
       "    .dataframe tbody tr th {\n",
       "        vertical-align: top;\n",
       "    }\n",
       "\n",
       "    .dataframe thead th {\n",
       "        text-align: right;\n",
       "    }\n",
       "</style>\n",
       "<table border=\"1\" class=\"dataframe\">\n",
       "  <thead>\n",
       "    <tr style=\"text-align: right;\">\n",
       "      <th></th>\n",
       "      <th>texture_mean</th>\n",
       "      <th>area_worst</th>\n",
       "      <th>smoothness_worst</th>\n",
       "      <th>concavity_mean</th>\n",
       "      <th>diagnosis</th>\n",
       "      <th>log_odds</th>\n",
       "      <th>prediction</th>\n",
       "    </tr>\n",
       "  </thead>\n",
       "  <tbody>\n",
       "    <tr>\n",
       "      <th>263</th>\n",
       "      <td>19.38</td>\n",
       "      <td>988.6</td>\n",
       "      <td>0.1084</td>\n",
       "      <td>0.04209</td>\n",
       "      <td>1</td>\n",
       "      <td>-1.36365</td>\n",
       "      <td>0</td>\n",
       "    </tr>\n",
       "  </tbody>\n",
       "</table>\n",
       "</div>"
      ],
      "text/plain": [
       "     texture_mean  area_worst  smoothness_worst  concavity_mean  diagnosis  \\\n",
       "263         19.38       988.6            0.1084         0.04209          1   \n",
       "\n",
       "     log_odds  prediction  \n",
       "263  -1.36365           0  "
      ]
     },
     "execution_count": 13,
     "metadata": {},
     "output_type": "execute_result"
    }
   ],
   "source": [
    "false_negatives[1]"
   ]
  },
  {
   "cell_type": "code",
   "execution_count": null,
   "metadata": {},
   "outputs": [],
   "source": []
  },
  {
   "cell_type": "code",
   "execution_count": null,
   "metadata": {},
   "outputs": [],
   "source": []
  }
 ],
 "metadata": {
  "kernelspec": {
   "display_name": "Python 3",
   "language": "python",
   "name": "python3"
  },
  "language_info": {
   "codemirror_mode": {
    "name": "ipython",
    "version": 3
   },
   "file_extension": ".py",
   "mimetype": "text/x-python",
   "name": "python",
   "nbconvert_exporter": "python",
   "pygments_lexer": "ipython3",
   "version": "3.7.6"
  }
 },
 "nbformat": 4,
 "nbformat_minor": 4
}
